{
  "nbformat": 4,
  "nbformat_minor": 0,
  "metadata": {
    "colab": {
      "provenance": [],
      "authorship_tag": "ABX9TyMTap+Y1F+Zd9H4v1N+Bvrd",
      "include_colab_link": true
    },
    "kernelspec": {
      "name": "python3",
      "display_name": "Python 3"
    },
    "language_info": {
      "name": "python"
    }
  },
  "cells": [
    {
      "cell_type": "markdown",
      "metadata": {
        "id": "view-in-github",
        "colab_type": "text"
      },
      "source": [
        "<a href=\"https://colab.research.google.com/github/AryanAhmadChaudhary/NLP/blob/main/Parts_Of_Speech_Tagging.ipynb\" target=\"_parent\"><img src=\"https://colab.research.google.com/assets/colab-badge.svg\" alt=\"Open In Colab\"/></a>"
      ]
    },
    {
      "cell_type": "markdown",
      "source": [
        "# **Part-of-Speech Tagging**\n",
        "POS Tagging (Part-of-Speech Tagging) is a fundamental task in Natural Language Processing (NLP) where each word in a text is assigned a part of speech (such as noun, verb, adjective, etc.) based on its context and role in the sentence.\n",
        "<table>\n",
        "<tr>\n",
        "<td>Tag</td>\t<td>Part of Speech\t<td>Example\n",
        "<tr><td>NN\t<td>Noun\t<td>cat, book\n",
        "<tr><td>VB\t<td>Verb\t<td>run, eat\n",
        "<tr><td>JJ\t<td>Adjective\t<td>beautiful, large\n",
        "<tr><td>RB\t<td>Adverb\t<td>quickly, very\n",
        "<tr><td>PRP\t<td>Pronoun\t<td>he, they\n",
        "<tr><td>IN\t<td>Preposition/Subordinator\t<td>on,after\n",
        "<tr><td>DT\t<td>Determiner\t<td>the, a\n",
        "<tr><td>CD\t<td>Cardinal Number\t<td>one, 23\n",
        "<tr><td>UH\t<td>Interjection\t<td>wow, oh\n",
        "</table>"
      ],
      "metadata": {
        "id": "BuuxhMWaEPKq"
      }
    },
    {
      "cell_type": "code",
      "execution_count": 1,
      "metadata": {
        "id": "LB0UPTxeDMeE"
      },
      "outputs": [],
      "source": [
        "paragraph = \"\"\"Natural language processing (NLP) is a field of computer science and a subfield of artificial intelligence that aims to make computers understand human language. NLP uses computational linguistics, which is the study of how language works, and various models based on statistics, machine learning, and deep learning. These technologies allow computers to analyze and process text or voice data, and to grasp their full meaning, including the speaker’s or writer’s intentions and emotions.\n",
        "\n",
        "NLP powers many applications that use language, such as text translation, voice recognition, text summarization, and chatbots. You may have used some of these applications yourself, such as voice-operated GPS systems, digital assistants, speech-to-text software, and customer service bots. NLP also helps businesses improve their efficiency, productivity, and performance by simplifying complex tasks that involve language.In conclusion, the field of Natural Language Processing (NLP) has significantly transformed the way humans interact with machines, enabling more intuitive and efficient communication. NLP encompasses a wide range of techniques and methodologies to understand, interpret, and generate human language. From basic tasks like tokenization and part-of-speech tagging to advanced applications like sentiment analysis and machine translation, the impact of NLP is evident across various domains. As the technology continues to evolve, driven by advancements in machine learning and artificial intelligence, the potential for NLP to enhance human-computer interaction and solve complex language-related challenges remains immense. Understanding the core concepts and applications of Natural Language Processing is crucial for anyone looking to leverage its capabilities in the modern digital landscape.\"\"\""
      ]
    },
    {
      "cell_type": "code",
      "source": [
        "import nltk\n",
        "nltk.download('punkt_tab')\n",
        "nltk.download('wordnet')\n",
        "from nltk.corpus import stopwords\n",
        "nltk.download('stopwords')\n",
        "sentences = nltk.sent_tokenize(paragraph)"
      ],
      "metadata": {
        "colab": {
          "base_uri": "https://localhost:8080/"
        },
        "id": "p128uVkLDo1U",
        "outputId": "97b711d4-186f-4228-acb3-12560950b914"
      },
      "execution_count": 12,
      "outputs": [
        {
          "output_type": "stream",
          "name": "stderr",
          "text": [
            "[nltk_data] Downloading package punkt_tab to /root/nltk_data...\n",
            "[nltk_data]   Package punkt_tab is already up-to-date!\n",
            "[nltk_data] Downloading package wordnet to /root/nltk_data...\n",
            "[nltk_data]   Package wordnet is already up-to-date!\n",
            "[nltk_data] Downloading package stopwords to /root/nltk_data...\n",
            "[nltk_data]   Unzipping corpora/stopwords.zip.\n"
          ]
        }
      ]
    },
    {
      "cell_type": "code",
      "source": [
        "sentences"
      ],
      "metadata": {
        "colab": {
          "base_uri": "https://localhost:8080/"
        },
        "id": "HuzWpv9HDsdf",
        "outputId": "140efd9c-3238-44a4-e818-d43343e08443"
      },
      "execution_count": 7,
      "outputs": [
        {
          "output_type": "execute_result",
          "data": {
            "text/plain": [
              "['Natural language processing (NLP) is a field of computer science and a subfield of artificial intelligence that aims to make computers understand human language.',\n",
              " 'NLP uses computational linguistics, which is the study of how language works, and various models based on statistics, machine learning, and deep learning.',\n",
              " 'These technologies allow computers to analyze and process text or voice data, and to grasp their full meaning, including the speaker’s or writer’s intentions and emotions.',\n",
              " 'NLP powers many applications that use language, such as text translation, voice recognition, text summarization, and chatbots.',\n",
              " 'You may have used some of these applications yourself, such as voice-operated GPS systems, digital assistants, speech-to-text software, and customer service bots.',\n",
              " 'NLP also helps businesses improve their efficiency, productivity, and performance by simplifying complex tasks that involve language.In conclusion, the field of Natural Language Processing (NLP) has significantly transformed the way humans interact with machines, enabling more intuitive and efficient communication.',\n",
              " 'NLP encompasses a wide range of techniques and methodologies to understand, interpret, and generate human language.',\n",
              " 'From basic tasks like tokenization and part-of-speech tagging to advanced applications like sentiment analysis and machine translation, the impact of NLP is evident across various domains.',\n",
              " 'As the technology continues to evolve, driven by advancements in machine learning and artificial intelligence, the potential for NLP to enhance human-computer interaction and solve complex language-related challenges remains immense.',\n",
              " 'Understanding the core concepts and applications of Natural Language Processing is crucial for anyone looking to leverage its capabilities in the modern digital landscape.']"
            ]
          },
          "metadata": {},
          "execution_count": 7
        }
      ]
    },
    {
      "cell_type": "markdown",
      "source": [
        "Find out Pos Tag\n"
      ],
      "metadata": {
        "id": "jeHDzbq4EHLW"
      }
    },
    {
      "cell_type": "code",
      "source": [
        "nltk.download('averaged_perceptron_tagger_eng')"
      ],
      "metadata": {
        "colab": {
          "base_uri": "https://localhost:8080/"
        },
        "id": "wSb-PKoRGv7_",
        "outputId": "ff7c7bc4-5d34-444e-96d9-e7aca2381204"
      },
      "execution_count": 14,
      "outputs": [
        {
          "output_type": "stream",
          "name": "stderr",
          "text": [
            "[nltk_data] Downloading package averaged_perceptron_tagger_eng to\n",
            "[nltk_data]     /root/nltk_data...\n",
            "[nltk_data]   Unzipping taggers/averaged_perceptron_tagger_eng.zip.\n"
          ]
        },
        {
          "output_type": "execute_result",
          "data": {
            "text/plain": [
              "True"
            ]
          },
          "metadata": {},
          "execution_count": 14
        }
      ]
    },
    {
      "cell_type": "code",
      "source": [
        "for i in range (len(sentences)):\n",
        "  words = nltk.word_tokenize(sentences[i])\n",
        "  words = [word for word in words if word not in set(stopwords.words('english'))]\n",
        "  pos_tag = nltk.pos_tag(words)\n",
        "  print(pos_tag)"
      ],
      "metadata": {
        "colab": {
          "base_uri": "https://localhost:8080/"
        },
        "id": "fdW0rle5D9iO",
        "outputId": "e8453d09-f20f-4d5b-861b-d6a736b9f106"
      },
      "execution_count": 15,
      "outputs": [
        {
          "output_type": "stream",
          "name": "stdout",
          "text": [
            "[('Natural', 'JJ'), ('language', 'NN'), ('processing', 'NN'), ('(', '('), ('NLP', 'NNP'), (')', ')'), ('field', 'NN'), ('computer', 'NN'), ('science', 'NN'), ('subfield', 'VBD'), ('artificial', 'JJ'), ('intelligence', 'NN'), ('aims', 'NNS'), ('make', 'VBP'), ('computers', 'NNS'), ('understand', 'VB'), ('human', 'JJ'), ('language', 'NN'), ('.', '.')]\n",
            "[('NLP', 'NNP'), ('uses', 'VBZ'), ('computational', 'JJ'), ('linguistics', 'NNS'), (',', ','), ('study', 'NN'), ('language', 'NN'), ('works', 'VBZ'), (',', ','), ('various', 'JJ'), ('models', 'NNS'), ('based', 'VBN'), ('statistics', 'NNS'), (',', ','), ('machine', 'NN'), ('learning', 'NN'), (',', ','), ('deep', 'JJ'), ('learning', 'NN'), ('.', '.')]\n",
            "[('These', 'DT'), ('technologies', 'NNS'), ('allow', 'VBP'), ('computers', 'NNS'), ('analyze', 'VBP'), ('process', 'JJ'), ('text', 'JJ'), ('voice', 'NN'), ('data', 'NNS'), (',', ','), ('grasp', 'CC'), ('full', 'JJ'), ('meaning', 'NN'), (',', ','), ('including', 'VBG'), ('speaker', 'NN'), ('’', 'NNP'), ('writer', 'NN'), ('’', 'NNP'), ('intentions', 'NNS'), ('emotions', 'NNS'), ('.', '.')]\n",
            "[('NLP', 'NNP'), ('powers', 'NNS'), ('many', 'JJ'), ('applications', 'NNS'), ('use', 'VBP'), ('language', 'NN'), (',', ','), ('text', 'JJ'), ('translation', 'NN'), (',', ','), ('voice', 'NN'), ('recognition', 'NN'), (',', ','), ('text', 'JJ'), ('summarization', 'NN'), (',', ','), ('chatbots', 'NNS'), ('.', '.')]\n",
            "[('You', 'PRP'), ('may', 'MD'), ('used', 'VBN'), ('applications', 'NNS'), (',', ','), ('voice-operated', 'JJ'), ('GPS', 'NNP'), ('systems', 'NNS'), (',', ','), ('digital', 'JJ'), ('assistants', 'NNS'), (',', ','), ('speech-to-text', 'JJ'), ('software', 'NN'), (',', ','), ('customer', 'NN'), ('service', 'NN'), ('bots', 'NNS'), ('.', '.')]\n",
            "[('NLP', 'NNP'), ('also', 'RB'), ('helps', 'VBZ'), ('businesses', 'NNS'), ('improve', 'VB'), ('efficiency', 'NN'), (',', ','), ('productivity', 'NN'), (',', ','), ('performance', 'NN'), ('simplifying', 'VBG'), ('complex', 'JJ'), ('tasks', 'NNS'), ('involve', 'VBP'), ('language.In', 'JJ'), ('conclusion', 'NN'), (',', ','), ('field', 'NN'), ('Natural', 'NNP'), ('Language', 'NNP'), ('Processing', 'NNP'), ('(', '('), ('NLP', 'NNP'), (')', ')'), ('significantly', 'RB'), ('transformed', 'VBN'), ('way', 'NN'), ('humans', 'NNS'), ('interact', 'JJ'), ('machines', 'NNS'), (',', ','), ('enabling', 'VBG'), ('intuitive', 'JJ'), ('efficient', 'JJ'), ('communication', 'NN'), ('.', '.')]\n",
            "[('NLP', 'NNP'), ('encompasses', 'VBZ'), ('wide', 'JJ'), ('range', 'NN'), ('techniques', 'NNS'), ('methodologies', 'NNS'), ('understand', 'VBP'), (',', ','), ('interpret', 'JJ'), (',', ','), ('generate', 'JJ'), ('human', 'JJ'), ('language', 'NN'), ('.', '.')]\n",
            "[('From', 'IN'), ('basic', 'JJ'), ('tasks', 'NNS'), ('like', 'IN'), ('tokenization', 'NN'), ('part-of-speech', 'JJ'), ('tagging', 'NN'), ('advanced', 'VBD'), ('applications', 'NNS'), ('like', 'IN'), ('sentiment', 'NN'), ('analysis', 'NN'), ('machine', 'NN'), ('translation', 'NN'), (',', ','), ('impact', 'NN'), ('NLP', 'NNP'), ('evident', 'JJ'), ('across', 'IN'), ('various', 'JJ'), ('domains', 'NNS'), ('.', '.')]\n",
            "[('As', 'IN'), ('technology', 'NN'), ('continues', 'VBZ'), ('evolve', 'VB'), (',', ','), ('driven', 'JJ'), ('advancements', 'NNS'), ('machine', 'NN'), ('learning', 'VBG'), ('artificial', 'JJ'), ('intelligence', 'NN'), (',', ','), ('potential', 'JJ'), ('NLP', 'NNP'), ('enhance', 'NN'), ('human-computer', 'JJ'), ('interaction', 'NN'), ('solve', 'NN'), ('complex', 'JJ'), ('language-related', 'JJ'), ('challenges', 'NNS'), ('remains', 'VBZ'), ('immense', 'JJ'), ('.', '.')]\n",
            "[('Understanding', 'VBG'), ('core', 'NN'), ('concepts', 'NNS'), ('applications', 'NNS'), ('Natural', 'NNP'), ('Language', 'NNP'), ('Processing', 'NNP'), ('crucial', 'JJ'), ('anyone', 'NN'), ('looking', 'VBG'), ('leverage', 'NN'), ('capabilities', 'NNS'), ('modern', 'JJ'), ('digital', 'JJ'), ('landscape', 'NN'), ('.', '.')]\n"
          ]
        }
      ]
    },
    {
      "cell_type": "code",
      "source": [],
      "metadata": {
        "id": "QFVGTbb7GTou"
      },
      "execution_count": null,
      "outputs": []
    }
  ]
}